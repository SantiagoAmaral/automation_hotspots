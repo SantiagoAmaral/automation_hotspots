{
 "cells": [
  {
   "cell_type": "code",
   "execution_count": 1,
   "source": [
    "import pandas as pd\r\n",
    "import pathlib\r\n",
    "from datetime import date"
   ],
   "outputs": [],
   "metadata": {}
  },
  {
   "cell_type": "code",
   "execution_count": 1,
   "source": [
    "import pandas as pd\r\n",
    "import os\r\n",
    "dir = \"C:/Users/aliss/Desktop/Codigos/monitoramento1/dados/diario/2021\"\r\n",
    "list = os.listdir(dir) # dir is your directory path\r\n",
    "number_files = len(list)\r\n",
    "\r\n",
    "ind_list = [\"Janeiro\", \"Fevereiro\", \"Março\", \"Abril\", \"Maio\", \"Junho\", \r\n",
    "            \"Julho\", \"Agosto\", \"Setembro\", \"Outubro\", \"Novembro\", \"Dezembro\"]\r\n",
    "\r\n",
    "tab_total = pd.DataFrame(pd.read_csv(\"C:/Users/aliss/Desktop/Codigos/monitoramento1/dados/diario/2021/Janeiro.csv\"))\r\n",
    "tab_total = tab_total[['municipio','estacao','regiao', 'rpga', 'latitude', 'longitude']]\r\n",
    "list_month = ind_list[:len(list)]\r\n",
    "\r\n",
    "for i in list_month:\r\n",
    "    tab_mes = pd.DataFrame(pd.read_csv(\"C:/Users/aliss/Desktop/Codigos/monitoramento1/dados/diario/2021/\" + i + \".csv\"))\r\n",
    "    tab_mes = tab_mes[['estacao','total']]\r\n",
    "    tab_mes.rename(columns= {'estacao': 'estacao','total': i}, inplace=True)\r\n",
    "    tab_total = pd.merge(tab_total, tab_mes, on = 'estacao')\r\n",
    "\r\n",
    "tab_total.to_csv(\"C:/Users/aliss/Desktop/Codigos/monitoramento1/dados/mensal/2021.csv\", sep=',', encoding='utf-8', index=False)"
   ],
   "outputs": [],
   "metadata": {}
  },
  {
   "cell_type": "code",
   "execution_count": 28,
   "source": [
    "import requests\r\n",
    "import pandas as pd\r\n",
    "import io\r\n",
    "import geopandas as gpd"
   ],
   "outputs": [],
   "metadata": {}
  },
  {
   "cell_type": "code",
   "execution_count": 3,
   "source": [
    "my_headers = {'Authorization' : 'Bearer {YWxpc3Nvbi5hbWFyYWw6WVd4cGMzTnZiaTVoYldGeVlXeEFhVzVsYldFdVltRXVaMjkyTG1KeToxNjI3MzA4NjEzOjhiZDhkOGM3OTlmMWUxMzVmMGM5ZGY1NjkxN2JhYmNhNzc3OGIzNGY}'}\r\n",
    "data = requests.get(\"https://nrt3.modaps.eosdis.nasa.gov/api/v2/content/archives/FIRMS/suomi-npp-viirs-c2/South_America/SUOMI_VIIRS_C2_South_America_VNP14IMGTDL_NRT_2021207.txt\", headers=my_headers)\r\n",
    "data = data.content\r\n",
    "rawData = pd.read_csv(io.StringIO(data.decode('utf-8')))"
   ],
   "outputs": [],
   "metadata": {}
  },
  {
   "cell_type": "code",
   "execution_count": 30,
   "source": [
    "geodf = gpd.read_file(\"municipios_ba.shp\",encoding='utf-8')"
   ],
   "outputs": [
    {
     "output_type": "error",
     "ename": "UnicodeDecodeError",
     "evalue": "'utf-8' codec can't decode byte 0xe3 in position 79: invalid continuation byte",
     "traceback": [
      "\u001b[1;31m---------------------------------------------------------------------------\u001b[0m",
      "\u001b[1;31mUnicodeDecodeError\u001b[0m                        Traceback (most recent call last)",
      "\u001b[1;31mUnicodeDecodeError\u001b[0m: 'utf-8' codec can't decode byte 0xe3 in position 79: invalid continuation byte"
     ]
    },
    {
     "output_type": "stream",
     "name": "stderr",
     "text": [
      "Exception ignored in: 'fiona._env.log_error'\n",
      "Traceback (most recent call last):\n",
      "  File \"C:\\Users\\aliss\\AppData\\Local\\Programs\\Python\\Python38\\lib\\site-packages\\fiona\\env.py\", line 289, in defenv\n",
      "    local._env.start()\n",
      "UnicodeDecodeError: 'utf-8' codec can't decode byte 0xe3 in position 79: invalid continuation byte\n"
     ]
    },
    {
     "output_type": "error",
     "ename": "UnicodeDecodeError",
     "evalue": "'utf-8' codec can't decode byte 0xe3 in position 79: invalid continuation byte",
     "traceback": [
      "\u001b[1;31m---------------------------------------------------------------------------\u001b[0m",
      "\u001b[1;31mUnicodeDecodeError\u001b[0m                        Traceback (most recent call last)",
      "\u001b[1;31mUnicodeDecodeError\u001b[0m: 'utf-8' codec can't decode byte 0xe3 in position 79: invalid continuation byte"
     ]
    },
    {
     "output_type": "stream",
     "name": "stderr",
     "text": [
      "Exception ignored in: 'fiona._env.log_error'\n",
      "Traceback (most recent call last):\n",
      "  File \"C:\\Users\\aliss\\AppData\\Local\\Programs\\Python\\Python38\\lib\\site-packages\\fiona\\env.py\", line 289, in defenv\n",
      "    local._env.start()\n",
      "UnicodeDecodeError: 'utf-8' codec can't decode byte 0xe3 in position 79: invalid continuation byte\n"
     ]
    },
    {
     "output_type": "error",
     "ename": "UnicodeDecodeError",
     "evalue": "'utf-8' codec can't decode byte 0xe3 in position 80: invalid continuation byte",
     "traceback": [
      "\u001b[1;31m---------------------------------------------------------------------------\u001b[0m",
      "\u001b[1;31mUnicodeDecodeError\u001b[0m                        Traceback (most recent call last)",
      "\u001b[1;31mUnicodeDecodeError\u001b[0m: 'utf-8' codec can't decode byte 0xe3 in position 80: invalid continuation byte"
     ]
    },
    {
     "output_type": "stream",
     "name": "stderr",
     "text": [
      "Exception ignored in: 'fiona._env.log_error'\n",
      "Traceback (most recent call last):\n",
      "  File \"C:\\Users\\aliss\\AppData\\Local\\Programs\\Python\\Python38\\lib\\site-packages\\fiona\\env.py\", line 289, in defenv\n",
      "    local._env.start()\n",
      "UnicodeDecodeError: 'utf-8' codec can't decode byte 0xe3 in position 80: invalid continuation byte\n"
     ]
    },
    {
     "output_type": "error",
     "ename": "UnicodeDecodeError",
     "evalue": "'utf-8' codec can't decode byte 0xe3 in position 80: invalid continuation byte",
     "traceback": [
      "\u001b[1;31m---------------------------------------------------------------------------\u001b[0m",
      "\u001b[1;31mUnicodeDecodeError\u001b[0m                        Traceback (most recent call last)",
      "\u001b[1;31mUnicodeDecodeError\u001b[0m: 'utf-8' codec can't decode byte 0xe3 in position 80: invalid continuation byte"
     ]
    },
    {
     "output_type": "stream",
     "name": "stderr",
     "text": [
      "Exception ignored in: 'fiona._env.log_error'\n",
      "Traceback (most recent call last):\n",
      "  File \"C:\\Users\\aliss\\AppData\\Local\\Programs\\Python\\Python38\\lib\\site-packages\\fiona\\env.py\", line 289, in defenv\n",
      "    local._env.start()\n",
      "UnicodeDecodeError: 'utf-8' codec can't decode byte 0xe3 in position 80: invalid continuation byte\n"
     ]
    },
    {
     "output_type": "error",
     "ename": "UnicodeDecodeError",
     "evalue": "'utf-8' codec can't decode byte 0xe3 in position 79: invalid continuation byte",
     "traceback": [
      "\u001b[1;31m---------------------------------------------------------------------------\u001b[0m",
      "\u001b[1;31mUnicodeDecodeError\u001b[0m                        Traceback (most recent call last)",
      "\u001b[1;31mUnicodeDecodeError\u001b[0m: 'utf-8' codec can't decode byte 0xe3 in position 79: invalid continuation byte"
     ]
    },
    {
     "output_type": "stream",
     "name": "stderr",
     "text": [
      "Exception ignored in: 'fiona._env.log_error'\n",
      "Traceback (most recent call last):\n",
      "  File \"C:\\Users\\aliss\\AppData\\Local\\Programs\\Python\\Python38\\lib\\site-packages\\fiona\\env.py\", line 289, in defenv\n",
      "    local._env.start()\n",
      "UnicodeDecodeError: 'utf-8' codec can't decode byte 0xe3 in position 79: invalid continuation byte\n"
     ]
    },
    {
     "output_type": "error",
     "ename": "UnicodeDecodeError",
     "evalue": "'utf-8' codec can't decode byte 0xe3 in position 79: invalid continuation byte",
     "traceback": [
      "\u001b[1;31m---------------------------------------------------------------------------\u001b[0m",
      "\u001b[1;31mUnicodeDecodeError\u001b[0m                        Traceback (most recent call last)",
      "\u001b[1;31mUnicodeDecodeError\u001b[0m: 'utf-8' codec can't decode byte 0xe3 in position 79: invalid continuation byte"
     ]
    },
    {
     "output_type": "stream",
     "name": "stderr",
     "text": [
      "Exception ignored in: 'fiona._env.log_error'\n",
      "Traceback (most recent call last):\n",
      "  File \"C:\\Users\\aliss\\AppData\\Local\\Programs\\Python\\Python38\\lib\\site-packages\\fiona\\env.py\", line 289, in defenv\n",
      "    local._env.start()\n",
      "UnicodeDecodeError: 'utf-8' codec can't decode byte 0xe3 in position 79: invalid continuation byte\n"
     ]
    },
    {
     "output_type": "error",
     "ename": "UnicodeDecodeError",
     "evalue": "'utf-8' codec can't decode byte 0xe3 in position 80: invalid continuation byte",
     "traceback": [
      "\u001b[1;31m---------------------------------------------------------------------------\u001b[0m",
      "\u001b[1;31mUnicodeDecodeError\u001b[0m                        Traceback (most recent call last)",
      "\u001b[1;31mUnicodeDecodeError\u001b[0m: 'utf-8' codec can't decode byte 0xe3 in position 80: invalid continuation byte"
     ]
    },
    {
     "output_type": "stream",
     "name": "stderr",
     "text": [
      "Exception ignored in: 'fiona._env.log_error'\n",
      "Traceback (most recent call last):\n",
      "  File \"C:\\Users\\aliss\\AppData\\Local\\Programs\\Python\\Python38\\lib\\site-packages\\fiona\\env.py\", line 289, in defenv\n",
      "    local._env.start()\n",
      "UnicodeDecodeError: 'utf-8' codec can't decode byte 0xe3 in position 80: invalid continuation byte\n"
     ]
    },
    {
     "output_type": "error",
     "ename": "UnicodeDecodeError",
     "evalue": "'utf-8' codec can't decode byte 0xe3 in position 80: invalid continuation byte",
     "traceback": [
      "\u001b[1;31m---------------------------------------------------------------------------\u001b[0m",
      "\u001b[1;31mUnicodeDecodeError\u001b[0m                        Traceback (most recent call last)",
      "\u001b[1;31mUnicodeDecodeError\u001b[0m: 'utf-8' codec can't decode byte 0xe3 in position 80: invalid continuation byte"
     ]
    },
    {
     "output_type": "stream",
     "name": "stderr",
     "text": [
      "Exception ignored in: 'fiona._env.log_error'\n",
      "Traceback (most recent call last):\n",
      "  File \"C:\\Users\\aliss\\AppData\\Local\\Programs\\Python\\Python38\\lib\\site-packages\\fiona\\env.py\", line 289, in defenv\n",
      "    local._env.start()\n",
      "UnicodeDecodeError: 'utf-8' codec can't decode byte 0xe3 in position 80: invalid continuation byte\n"
     ]
    },
    {
     "output_type": "error",
     "ename": "UnicodeDecodeError",
     "evalue": "'utf-8' codec can't decode byte 0xe3 in position 85: invalid continuation byte",
     "traceback": [
      "\u001b[1;31m---------------------------------------------------------------------------\u001b[0m",
      "\u001b[1;31mUnicodeDecodeError\u001b[0m                        Traceback (most recent call last)",
      "\u001b[1;31mUnicodeDecodeError\u001b[0m: 'utf-8' codec can't decode byte 0xe3 in position 85: invalid continuation byte"
     ]
    },
    {
     "output_type": "stream",
     "name": "stderr",
     "text": [
      "Exception ignored in: 'fiona._env.log_error'\n",
      "Traceback (most recent call last):\n",
      "  File \"C:\\Users\\aliss\\AppData\\Local\\Programs\\Python\\Python38\\lib\\site-packages\\fiona\\env.py\", line 289, in defenv\n",
      "    local._env.start()\n",
      "UnicodeDecodeError: 'utf-8' codec can't decode byte 0xe3 in position 85: invalid continuation byte\n"
     ]
    },
    {
     "output_type": "error",
     "ename": "UnicodeDecodeError",
     "evalue": "'utf-8' codec can't decode byte 0xe3 in position 85: invalid continuation byte",
     "traceback": [
      "\u001b[1;31m---------------------------------------------------------------------------\u001b[0m",
      "\u001b[1;31mUnicodeDecodeError\u001b[0m                        Traceback (most recent call last)",
      "\u001b[1;31mUnicodeDecodeError\u001b[0m: 'utf-8' codec can't decode byte 0xe3 in position 85: invalid continuation byte"
     ]
    },
    {
     "output_type": "stream",
     "name": "stderr",
     "text": [
      "Exception ignored in: 'fiona._env.log_error'\n",
      "Traceback (most recent call last):\n",
      "  File \"C:\\Users\\aliss\\AppData\\Local\\Programs\\Python\\Python38\\lib\\site-packages\\fiona\\env.py\", line 289, in defenv\n",
      "    local._env.start()\n",
      "UnicodeDecodeError: 'utf-8' codec can't decode byte 0xe3 in position 85: invalid continuation byte\n"
     ]
    },
    {
     "output_type": "error",
     "ename": "UnicodeDecodeError",
     "evalue": "'utf-8' codec can't decode byte 0xe3 in position 80: invalid continuation byte",
     "traceback": [
      "\u001b[1;31m---------------------------------------------------------------------------\u001b[0m",
      "\u001b[1;31mUnicodeDecodeError\u001b[0m                        Traceback (most recent call last)",
      "\u001b[1;31mUnicodeDecodeError\u001b[0m: 'utf-8' codec can't decode byte 0xe3 in position 80: invalid continuation byte"
     ]
    },
    {
     "output_type": "stream",
     "name": "stderr",
     "text": [
      "Exception ignored in: 'fiona._env.log_error'\n",
      "Traceback (most recent call last):\n",
      "  File \"C:\\Users\\aliss\\AppData\\Local\\Programs\\Python\\Python38\\lib\\site-packages\\fiona\\env.py\", line 289, in defenv\n",
      "    local._env.start()\n",
      "UnicodeDecodeError: 'utf-8' codec can't decode byte 0xe3 in position 80: invalid continuation byte\n"
     ]
    },
    {
     "output_type": "error",
     "ename": "UnicodeDecodeError",
     "evalue": "'utf-8' codec can't decode byte 0xe3 in position 80: invalid continuation byte",
     "traceback": [
      "\u001b[1;31m---------------------------------------------------------------------------\u001b[0m",
      "\u001b[1;31mUnicodeDecodeError\u001b[0m                        Traceback (most recent call last)",
      "\u001b[1;31mUnicodeDecodeError\u001b[0m: 'utf-8' codec can't decode byte 0xe3 in position 80: invalid continuation byte"
     ]
    },
    {
     "output_type": "stream",
     "name": "stderr",
     "text": [
      "Exception ignored in: 'fiona._env.log_error'\n",
      "Traceback (most recent call last):\n",
      "  File \"C:\\Users\\aliss\\AppData\\Local\\Programs\\Python\\Python38\\lib\\site-packages\\fiona\\env.py\", line 289, in defenv\n",
      "    local._env.start()\n",
      "UnicodeDecodeError: 'utf-8' codec can't decode byte 0xe3 in position 80: invalid continuation byte\n"
     ]
    },
    {
     "output_type": "error",
     "ename": "UnicodeDecodeError",
     "evalue": "'utf-8' codec can't decode byte 0xe3 in position 85: invalid continuation byte",
     "traceback": [
      "\u001b[1;31m---------------------------------------------------------------------------\u001b[0m",
      "\u001b[1;31mUnicodeDecodeError\u001b[0m                        Traceback (most recent call last)",
      "\u001b[1;31mUnicodeDecodeError\u001b[0m: 'utf-8' codec can't decode byte 0xe3 in position 85: invalid continuation byte"
     ]
    },
    {
     "output_type": "stream",
     "name": "stderr",
     "text": [
      "Exception ignored in: 'fiona._env.log_error'\n",
      "Traceback (most recent call last):\n",
      "  File \"C:\\Users\\aliss\\AppData\\Local\\Programs\\Python\\Python38\\lib\\site-packages\\fiona\\env.py\", line 289, in defenv\n",
      "    local._env.start()\n",
      "UnicodeDecodeError: 'utf-8' codec can't decode byte 0xe3 in position 85: invalid continuation byte\n"
     ]
    },
    {
     "output_type": "error",
     "ename": "UnicodeDecodeError",
     "evalue": "'utf-8' codec can't decode byte 0xe3 in position 85: invalid continuation byte",
     "traceback": [
      "\u001b[1;31m---------------------------------------------------------------------------\u001b[0m",
      "\u001b[1;31mUnicodeDecodeError\u001b[0m                        Traceback (most recent call last)",
      "\u001b[1;31mUnicodeDecodeError\u001b[0m: 'utf-8' codec can't decode byte 0xe3 in position 85: invalid continuation byte"
     ]
    },
    {
     "output_type": "stream",
     "name": "stderr",
     "text": [
      "Exception ignored in: 'fiona._env.log_error'\n",
      "Traceback (most recent call last):\n",
      "  File \"C:\\Users\\aliss\\AppData\\Local\\Programs\\Python\\Python38\\lib\\site-packages\\fiona\\env.py\", line 289, in defenv\n",
      "    local._env.start()\n",
      "UnicodeDecodeError: 'utf-8' codec can't decode byte 0xe3 in position 85: invalid continuation byte\n"
     ]
    },
    {
     "output_type": "error",
     "ename": "UnicodeDecodeError",
     "evalue": "'utf-8' codec can't decode byte 0xe3 in position 79: invalid continuation byte",
     "traceback": [
      "\u001b[1;31m---------------------------------------------------------------------------\u001b[0m",
      "\u001b[1;31mUnicodeDecodeError\u001b[0m                        Traceback (most recent call last)",
      "\u001b[1;31mUnicodeDecodeError\u001b[0m: 'utf-8' codec can't decode byte 0xe3 in position 79: invalid continuation byte"
     ]
    },
    {
     "output_type": "stream",
     "name": "stderr",
     "text": [
      "Exception ignored in: 'fiona._env.log_error'\n",
      "Traceback (most recent call last):\n",
      "  File \"C:\\Users\\aliss\\AppData\\Local\\Programs\\Python\\Python38\\lib\\site-packages\\fiona\\env.py\", line 289, in defenv\n",
      "    local._env.start()\n",
      "UnicodeDecodeError: 'utf-8' codec can't decode byte 0xe3 in position 79: invalid continuation byte\n"
     ]
    },
    {
     "output_type": "error",
     "ename": "UnicodeDecodeError",
     "evalue": "'utf-8' codec can't decode byte 0xe3 in position 79: invalid continuation byte",
     "traceback": [
      "\u001b[1;31m---------------------------------------------------------------------------\u001b[0m",
      "\u001b[1;31mUnicodeDecodeError\u001b[0m                        Traceback (most recent call last)",
      "\u001b[1;31mUnicodeDecodeError\u001b[0m: 'utf-8' codec can't decode byte 0xe3 in position 79: invalid continuation byte"
     ]
    },
    {
     "output_type": "stream",
     "name": "stderr",
     "text": [
      "Exception ignored in: 'fiona._env.log_error'\n",
      "Traceback (most recent call last):\n",
      "  File \"C:\\Users\\aliss\\AppData\\Local\\Programs\\Python\\Python38\\lib\\site-packages\\fiona\\env.py\", line 289, in defenv\n",
      "    local._env.start()\n",
      "UnicodeDecodeError: 'utf-8' codec can't decode byte 0xe3 in position 79: invalid continuation byte\n"
     ]
    },
    {
     "output_type": "error",
     "ename": "UnicodeDecodeError",
     "evalue": "'utf-8' codec can't decode byte 0xe3 in position 82: invalid continuation byte",
     "traceback": [
      "\u001b[1;31m---------------------------------------------------------------------------\u001b[0m",
      "\u001b[1;31mUnicodeDecodeError\u001b[0m                        Traceback (most recent call last)",
      "\u001b[1;31mUnicodeDecodeError\u001b[0m: 'utf-8' codec can't decode byte 0xe3 in position 82: invalid continuation byte"
     ]
    },
    {
     "output_type": "stream",
     "name": "stderr",
     "text": [
      "Exception ignored in: 'fiona._env.log_error'\n",
      "Traceback (most recent call last):\n",
      "  File \"C:\\Users\\aliss\\AppData\\Local\\Programs\\Python\\Python38\\lib\\site-packages\\fiona\\env.py\", line 289, in defenv\n",
      "    local._env.start()\n",
      "UnicodeDecodeError: 'utf-8' codec can't decode byte 0xe3 in position 82: invalid continuation byte\n"
     ]
    },
    {
     "output_type": "error",
     "ename": "UnicodeDecodeError",
     "evalue": "'utf-8' codec can't decode byte 0xe3 in position 82: invalid continuation byte",
     "traceback": [
      "\u001b[1;31m---------------------------------------------------------------------------\u001b[0m",
      "\u001b[1;31mUnicodeDecodeError\u001b[0m                        Traceback (most recent call last)",
      "\u001b[1;31mUnicodeDecodeError\u001b[0m: 'utf-8' codec can't decode byte 0xe3 in position 82: invalid continuation byte"
     ]
    },
    {
     "output_type": "stream",
     "name": "stderr",
     "text": [
      "Exception ignored in: 'fiona._env.log_error'\n",
      "Traceback (most recent call last):\n",
      "  File \"C:\\Users\\aliss\\AppData\\Local\\Programs\\Python\\Python38\\lib\\site-packages\\fiona\\env.py\", line 289, in defenv\n",
      "    local._env.start()\n",
      "UnicodeDecodeError: 'utf-8' codec can't decode byte 0xe3 in position 82: invalid continuation byte\n"
     ]
    },
    {
     "output_type": "error",
     "ename": "UnicodeDecodeError",
     "evalue": "'utf-8' codec can't decode byte 0xe3 in position 79: invalid continuation byte",
     "traceback": [
      "\u001b[1;31m---------------------------------------------------------------------------\u001b[0m",
      "\u001b[1;31mUnicodeDecodeError\u001b[0m                        Traceback (most recent call last)",
      "\u001b[1;31mUnicodeDecodeError\u001b[0m: 'utf-8' codec can't decode byte 0xe3 in position 79: invalid continuation byte"
     ]
    },
    {
     "output_type": "stream",
     "name": "stderr",
     "text": [
      "Exception ignored in: 'fiona._env.log_error'\n",
      "Traceback (most recent call last):\n",
      "  File \"C:\\Users\\aliss\\AppData\\Local\\Programs\\Python\\Python38\\lib\\site-packages\\fiona\\env.py\", line 289, in defenv\n",
      "    local._env.start()\n",
      "UnicodeDecodeError: 'utf-8' codec can't decode byte 0xe3 in position 79: invalid continuation byte\n"
     ]
    },
    {
     "output_type": "error",
     "ename": "UnicodeDecodeError",
     "evalue": "'utf-8' codec can't decode byte 0xe3 in position 79: invalid continuation byte",
     "traceback": [
      "\u001b[1;31m---------------------------------------------------------------------------\u001b[0m",
      "\u001b[1;31mUnicodeDecodeError\u001b[0m                        Traceback (most recent call last)",
      "\u001b[1;31mUnicodeDecodeError\u001b[0m: 'utf-8' codec can't decode byte 0xe3 in position 79: invalid continuation byte"
     ]
    },
    {
     "output_type": "stream",
     "name": "stderr",
     "text": [
      "Exception ignored in: 'fiona._env.log_error'\n",
      "Traceback (most recent call last):\n",
      "  File \"C:\\Users\\aliss\\AppData\\Local\\Programs\\Python\\Python38\\lib\\site-packages\\fiona\\env.py\", line 289, in defenv\n",
      "    local._env.start()\n",
      "UnicodeDecodeError: 'utf-8' codec can't decode byte 0xe3 in position 79: invalid continuation byte\n"
     ]
    },
    {
     "output_type": "error",
     "ename": "UnicodeDecodeError",
     "evalue": "'utf-8' codec can't decode byte 0xe3 in position 80: invalid continuation byte",
     "traceback": [
      "\u001b[1;31m---------------------------------------------------------------------------\u001b[0m",
      "\u001b[1;31mUnicodeDecodeError\u001b[0m                        Traceback (most recent call last)",
      "\u001b[1;31mUnicodeDecodeError\u001b[0m: 'utf-8' codec can't decode byte 0xe3 in position 80: invalid continuation byte"
     ]
    },
    {
     "output_type": "stream",
     "name": "stderr",
     "text": [
      "Exception ignored in: 'fiona._env.log_error'\n",
      "Traceback (most recent call last):\n",
      "  File \"C:\\Users\\aliss\\AppData\\Local\\Programs\\Python\\Python38\\lib\\site-packages\\fiona\\env.py\", line 289, in defenv\n",
      "    local._env.start()\n",
      "UnicodeDecodeError: 'utf-8' codec can't decode byte 0xe3 in position 80: invalid continuation byte\n"
     ]
    },
    {
     "output_type": "error",
     "ename": "UnicodeDecodeError",
     "evalue": "'utf-8' codec can't decode byte 0xe3 in position 80: invalid continuation byte",
     "traceback": [
      "\u001b[1;31m---------------------------------------------------------------------------\u001b[0m",
      "\u001b[1;31mUnicodeDecodeError\u001b[0m                        Traceback (most recent call last)",
      "\u001b[1;31mUnicodeDecodeError\u001b[0m: 'utf-8' codec can't decode byte 0xe3 in position 80: invalid continuation byte"
     ]
    },
    {
     "output_type": "stream",
     "name": "stderr",
     "text": [
      "Exception ignored in: 'fiona._env.log_error'\n",
      "Traceback (most recent call last):\n",
      "  File \"C:\\Users\\aliss\\AppData\\Local\\Programs\\Python\\Python38\\lib\\site-packages\\fiona\\env.py\", line 289, in defenv\n",
      "    local._env.start()\n",
      "UnicodeDecodeError: 'utf-8' codec can't decode byte 0xe3 in position 80: invalid continuation byte\n"
     ]
    },
    {
     "output_type": "error",
     "ename": "UnicodeDecodeError",
     "evalue": "'utf-8' codec can't decode byte 0xe3 in position 79: invalid continuation byte",
     "traceback": [
      "\u001b[1;31m---------------------------------------------------------------------------\u001b[0m",
      "\u001b[1;31mUnicodeDecodeError\u001b[0m                        Traceback (most recent call last)",
      "\u001b[1;31mUnicodeDecodeError\u001b[0m: 'utf-8' codec can't decode byte 0xe3 in position 79: invalid continuation byte"
     ]
    },
    {
     "output_type": "stream",
     "name": "stderr",
     "text": [
      "Exception ignored in: 'fiona._env.log_error'\n",
      "Traceback (most recent call last):\n",
      "  File \"C:\\Users\\aliss\\AppData\\Local\\Programs\\Python\\Python38\\lib\\site-packages\\fiona\\env.py\", line 289, in defenv\n",
      "    local._env.start()\n",
      "UnicodeDecodeError: 'utf-8' codec can't decode byte 0xe3 in position 79: invalid continuation byte\n"
     ]
    },
    {
     "output_type": "error",
     "ename": "UnicodeDecodeError",
     "evalue": "'utf-8' codec can't decode byte 0xe3 in position 79: invalid continuation byte",
     "traceback": [
      "\u001b[1;31m---------------------------------------------------------------------------\u001b[0m",
      "\u001b[1;31mUnicodeDecodeError\u001b[0m                        Traceback (most recent call last)",
      "\u001b[1;31mUnicodeDecodeError\u001b[0m: 'utf-8' codec can't decode byte 0xe3 in position 79: invalid continuation byte"
     ]
    },
    {
     "output_type": "stream",
     "name": "stderr",
     "text": [
      "Exception ignored in: 'fiona._env.log_error'\n",
      "Traceback (most recent call last):\n",
      "  File \"C:\\Users\\aliss\\AppData\\Local\\Programs\\Python\\Python38\\lib\\site-packages\\fiona\\env.py\", line 289, in defenv\n",
      "    local._env.start()\n",
      "UnicodeDecodeError: 'utf-8' codec can't decode byte 0xe3 in position 79: invalid continuation byte\n"
     ]
    },
    {
     "output_type": "error",
     "ename": "UnicodeDecodeError",
     "evalue": "'utf-8' codec can't decode byte 0xe3 in position 80: invalid continuation byte",
     "traceback": [
      "\u001b[1;31m---------------------------------------------------------------------------\u001b[0m",
      "\u001b[1;31mUnicodeDecodeError\u001b[0m                        Traceback (most recent call last)",
      "\u001b[1;31mUnicodeDecodeError\u001b[0m: 'utf-8' codec can't decode byte 0xe3 in position 80: invalid continuation byte"
     ]
    },
    {
     "output_type": "stream",
     "name": "stderr",
     "text": [
      "Exception ignored in: 'fiona._env.log_error'\n",
      "Traceback (most recent call last):\n",
      "  File \"C:\\Users\\aliss\\AppData\\Local\\Programs\\Python\\Python38\\lib\\site-packages\\fiona\\env.py\", line 289, in defenv\n",
      "    local._env.start()\n",
      "UnicodeDecodeError: 'utf-8' codec can't decode byte 0xe3 in position 80: invalid continuation byte\n"
     ]
    },
    {
     "output_type": "error",
     "ename": "UnicodeDecodeError",
     "evalue": "'utf-8' codec can't decode byte 0xe3 in position 80: invalid continuation byte",
     "traceback": [
      "\u001b[1;31m---------------------------------------------------------------------------\u001b[0m",
      "\u001b[1;31mUnicodeDecodeError\u001b[0m                        Traceback (most recent call last)",
      "\u001b[1;31mUnicodeDecodeError\u001b[0m: 'utf-8' codec can't decode byte 0xe3 in position 80: invalid continuation byte"
     ]
    },
    {
     "output_type": "stream",
     "name": "stderr",
     "text": [
      "Exception ignored in: 'fiona._env.log_error'\n",
      "Traceback (most recent call last):\n",
      "  File \"C:\\Users\\aliss\\AppData\\Local\\Programs\\Python\\Python38\\lib\\site-packages\\fiona\\env.py\", line 289, in defenv\n",
      "    local._env.start()\n",
      "UnicodeDecodeError: 'utf-8' codec can't decode byte 0xe3 in position 80: invalid continuation byte\n"
     ]
    },
    {
     "output_type": "error",
     "ename": "UnicodeDecodeError",
     "evalue": "'utf-8' codec can't decode byte 0xe3 in position 85: invalid continuation byte",
     "traceback": [
      "\u001b[1;31m---------------------------------------------------------------------------\u001b[0m",
      "\u001b[1;31mUnicodeDecodeError\u001b[0m                        Traceback (most recent call last)",
      "\u001b[1;31mUnicodeDecodeError\u001b[0m: 'utf-8' codec can't decode byte 0xe3 in position 85: invalid continuation byte"
     ]
    },
    {
     "output_type": "stream",
     "name": "stderr",
     "text": [
      "Exception ignored in: 'fiona._env.log_error'\n",
      "Traceback (most recent call last):\n",
      "  File \"C:\\Users\\aliss\\AppData\\Local\\Programs\\Python\\Python38\\lib\\site-packages\\fiona\\env.py\", line 289, in defenv\n",
      "    local._env.start()\n",
      "UnicodeDecodeError: 'utf-8' codec can't decode byte 0xe3 in position 85: invalid continuation byte\n"
     ]
    },
    {
     "output_type": "error",
     "ename": "UnicodeDecodeError",
     "evalue": "'utf-8' codec can't decode byte 0xe3 in position 85: invalid continuation byte",
     "traceback": [
      "\u001b[1;31m---------------------------------------------------------------------------\u001b[0m",
      "\u001b[1;31mUnicodeDecodeError\u001b[0m                        Traceback (most recent call last)",
      "\u001b[1;31mUnicodeDecodeError\u001b[0m: 'utf-8' codec can't decode byte 0xe3 in position 85: invalid continuation byte"
     ]
    },
    {
     "output_type": "stream",
     "name": "stderr",
     "text": [
      "Exception ignored in: 'fiona._env.log_error'\n",
      "Traceback (most recent call last):\n",
      "  File \"C:\\Users\\aliss\\AppData\\Local\\Programs\\Python\\Python38\\lib\\site-packages\\fiona\\env.py\", line 289, in defenv\n",
      "    local._env.start()\n",
      "UnicodeDecodeError: 'utf-8' codec can't decode byte 0xe3 in position 85: invalid continuation byte\n"
     ]
    },
    {
     "output_type": "error",
     "ename": "UnicodeDecodeError",
     "evalue": "'utf-8' codec can't decode byte 0xe3 in position 80: invalid continuation byte",
     "traceback": [
      "\u001b[1;31m---------------------------------------------------------------------------\u001b[0m",
      "\u001b[1;31mUnicodeDecodeError\u001b[0m                        Traceback (most recent call last)",
      "\u001b[1;31mUnicodeDecodeError\u001b[0m: 'utf-8' codec can't decode byte 0xe3 in position 80: invalid continuation byte"
     ]
    },
    {
     "output_type": "stream",
     "name": "stderr",
     "text": [
      "Exception ignored in: 'fiona._env.log_error'\n",
      "Traceback (most recent call last):\n",
      "  File \"C:\\Users\\aliss\\AppData\\Local\\Programs\\Python\\Python38\\lib\\site-packages\\fiona\\env.py\", line 289, in defenv\n",
      "    local._env.start()\n",
      "UnicodeDecodeError: 'utf-8' codec can't decode byte 0xe3 in position 80: invalid continuation byte\n"
     ]
    },
    {
     "output_type": "error",
     "ename": "UnicodeDecodeError",
     "evalue": "'utf-8' codec can't decode byte 0xe3 in position 80: invalid continuation byte",
     "traceback": [
      "\u001b[1;31m---------------------------------------------------------------------------\u001b[0m",
      "\u001b[1;31mUnicodeDecodeError\u001b[0m                        Traceback (most recent call last)",
      "\u001b[1;31mUnicodeDecodeError\u001b[0m: 'utf-8' codec can't decode byte 0xe3 in position 80: invalid continuation byte"
     ]
    },
    {
     "output_type": "stream",
     "name": "stderr",
     "text": [
      "Exception ignored in: 'fiona._env.log_error'\n",
      "Traceback (most recent call last):\n",
      "  File \"C:\\Users\\aliss\\AppData\\Local\\Programs\\Python\\Python38\\lib\\site-packages\\fiona\\env.py\", line 289, in defenv\n",
      "    local._env.start()\n",
      "UnicodeDecodeError: 'utf-8' codec can't decode byte 0xe3 in position 80: invalid continuation byte\n"
     ]
    },
    {
     "output_type": "error",
     "ename": "UnicodeDecodeError",
     "evalue": "'utf-8' codec can't decode byte 0xe3 in position 85: invalid continuation byte",
     "traceback": [
      "\u001b[1;31m---------------------------------------------------------------------------\u001b[0m",
      "\u001b[1;31mUnicodeDecodeError\u001b[0m                        Traceback (most recent call last)",
      "\u001b[1;31mUnicodeDecodeError\u001b[0m: 'utf-8' codec can't decode byte 0xe3 in position 85: invalid continuation byte"
     ]
    },
    {
     "output_type": "stream",
     "name": "stderr",
     "text": [
      "Exception ignored in: 'fiona._env.log_error'\n",
      "Traceback (most recent call last):\n",
      "  File \"C:\\Users\\aliss\\AppData\\Local\\Programs\\Python\\Python38\\lib\\site-packages\\fiona\\env.py\", line 289, in defenv\n",
      "    local._env.start()\n",
      "UnicodeDecodeError: 'utf-8' codec can't decode byte 0xe3 in position 85: invalid continuation byte\n"
     ]
    },
    {
     "output_type": "error",
     "ename": "UnicodeDecodeError",
     "evalue": "'utf-8' codec can't decode byte 0xe3 in position 85: invalid continuation byte",
     "traceback": [
      "\u001b[1;31m---------------------------------------------------------------------------\u001b[0m",
      "\u001b[1;31mUnicodeDecodeError\u001b[0m                        Traceback (most recent call last)",
      "\u001b[1;31mUnicodeDecodeError\u001b[0m: 'utf-8' codec can't decode byte 0xe3 in position 85: invalid continuation byte"
     ]
    },
    {
     "output_type": "stream",
     "name": "stderr",
     "text": [
      "Exception ignored in: 'fiona._env.log_error'\n",
      "Traceback (most recent call last):\n",
      "  File \"C:\\Users\\aliss\\AppData\\Local\\Programs\\Python\\Python38\\lib\\site-packages\\fiona\\env.py\", line 289, in defenv\n",
      "    local._env.start()\n",
      "UnicodeDecodeError: 'utf-8' codec can't decode byte 0xe3 in position 85: invalid continuation byte\n"
     ]
    },
    {
     "output_type": "error",
     "ename": "UnicodeDecodeError",
     "evalue": "'utf-8' codec can't decode byte 0xe3 in position 79: invalid continuation byte",
     "traceback": [
      "\u001b[1;31m---------------------------------------------------------------------------\u001b[0m",
      "\u001b[1;31mUnicodeDecodeError\u001b[0m                        Traceback (most recent call last)",
      "\u001b[1;31mUnicodeDecodeError\u001b[0m: 'utf-8' codec can't decode byte 0xe3 in position 79: invalid continuation byte"
     ]
    },
    {
     "output_type": "stream",
     "name": "stderr",
     "text": [
      "Exception ignored in: 'fiona._env.log_error'\n",
      "Traceback (most recent call last):\n",
      "  File \"C:\\Users\\aliss\\AppData\\Local\\Programs\\Python\\Python38\\lib\\site-packages\\fiona\\env.py\", line 289, in defenv\n",
      "    local._env.start()\n",
      "UnicodeDecodeError: 'utf-8' codec can't decode byte 0xe3 in position 79: invalid continuation byte\n"
     ]
    },
    {
     "output_type": "error",
     "ename": "UnicodeDecodeError",
     "evalue": "'utf-8' codec can't decode byte 0xe3 in position 79: invalid continuation byte",
     "traceback": [
      "\u001b[1;31m---------------------------------------------------------------------------\u001b[0m",
      "\u001b[1;31mUnicodeDecodeError\u001b[0m                        Traceback (most recent call last)",
      "\u001b[1;31mUnicodeDecodeError\u001b[0m: 'utf-8' codec can't decode byte 0xe3 in position 79: invalid continuation byte"
     ]
    },
    {
     "output_type": "stream",
     "name": "stderr",
     "text": [
      "Exception ignored in: 'fiona._env.log_error'\n",
      "Traceback (most recent call last):\n",
      "  File \"C:\\Users\\aliss\\AppData\\Local\\Programs\\Python\\Python38\\lib\\site-packages\\fiona\\env.py\", line 289, in defenv\n",
      "    local._env.start()\n",
      "UnicodeDecodeError: 'utf-8' codec can't decode byte 0xe3 in position 79: invalid continuation byte\n"
     ]
    },
    {
     "output_type": "error",
     "ename": "UnicodeDecodeError",
     "evalue": "'utf-8' codec can't decode byte 0xe3 in position 82: invalid continuation byte",
     "traceback": [
      "\u001b[1;31m---------------------------------------------------------------------------\u001b[0m",
      "\u001b[1;31mUnicodeDecodeError\u001b[0m                        Traceback (most recent call last)",
      "\u001b[1;31mUnicodeDecodeError\u001b[0m: 'utf-8' codec can't decode byte 0xe3 in position 82: invalid continuation byte"
     ]
    },
    {
     "output_type": "stream",
     "name": "stderr",
     "text": [
      "Exception ignored in: 'fiona._env.log_error'\n",
      "Traceback (most recent call last):\n",
      "  File \"C:\\Users\\aliss\\AppData\\Local\\Programs\\Python\\Python38\\lib\\site-packages\\fiona\\env.py\", line 289, in defenv\n",
      "    local._env.start()\n",
      "UnicodeDecodeError: 'utf-8' codec can't decode byte 0xe3 in position 82: invalid continuation byte\n"
     ]
    },
    {
     "output_type": "error",
     "ename": "UnicodeDecodeError",
     "evalue": "'utf-8' codec can't decode byte 0xe3 in position 82: invalid continuation byte",
     "traceback": [
      "\u001b[1;31m---------------------------------------------------------------------------\u001b[0m",
      "\u001b[1;31mUnicodeDecodeError\u001b[0m                        Traceback (most recent call last)",
      "\u001b[1;31mUnicodeDecodeError\u001b[0m: 'utf-8' codec can't decode byte 0xe3 in position 82: invalid continuation byte"
     ]
    },
    {
     "output_type": "stream",
     "name": "stderr",
     "text": [
      "Exception ignored in: 'fiona._env.log_error'\n",
      "Traceback (most recent call last):\n",
      "  File \"C:\\Users\\aliss\\AppData\\Local\\Programs\\Python\\Python38\\lib\\site-packages\\fiona\\env.py\", line 289, in defenv\n",
      "    local._env.start()\n",
      "UnicodeDecodeError: 'utf-8' codec can't decode byte 0xe3 in position 82: invalid continuation byte\n"
     ]
    },
    {
     "output_type": "error",
     "ename": "DriverError",
     "evalue": "municipios_ba.shp: No such file or directory",
     "traceback": [
      "\u001b[1;31m---------------------------------------------------------------------------\u001b[0m",
      "\u001b[1;31mCPLE_OpenFailedError\u001b[0m                      Traceback (most recent call last)",
      "\u001b[1;32mfiona\\_shim.pyx\u001b[0m in \u001b[0;36mfiona._shim.gdal_open_vector\u001b[1;34m()\u001b[0m\n",
      "\u001b[1;32mfiona\\_err.pyx\u001b[0m in \u001b[0;36mfiona._err.exc_wrap_pointer\u001b[1;34m()\u001b[0m\n",
      "\u001b[1;31mCPLE_OpenFailedError\u001b[0m: municipios_ba.shp: No such file or directory",
      "\nDuring handling of the above exception, another exception occurred:\n",
      "\u001b[1;31mDriverError\u001b[0m                               Traceback (most recent call last)",
      "\u001b[1;32m<ipython-input-30-53c00f2ed2a5>\u001b[0m in \u001b[0;36m<module>\u001b[1;34m\u001b[0m\n\u001b[1;32m----> 1\u001b[1;33m \u001b[0mgeodf\u001b[0m \u001b[1;33m=\u001b[0m \u001b[0mgpd\u001b[0m\u001b[1;33m.\u001b[0m\u001b[0mread_file\u001b[0m\u001b[1;33m(\u001b[0m\u001b[1;34m\"municipios_ba.shp\"\u001b[0m\u001b[1;33m,\u001b[0m\u001b[0mencoding\u001b[0m\u001b[1;33m=\u001b[0m\u001b[1;34m'utf-8'\u001b[0m\u001b[1;33m)\u001b[0m\u001b[1;33m\u001b[0m\u001b[1;33m\u001b[0m\u001b[0m\n\u001b[0m",
      "\u001b[1;32m~\\AppData\\Local\\Programs\\Python\\Python38\\lib\\site-packages\\geopandas\\io\\file.py\u001b[0m in \u001b[0;36m_read_file\u001b[1;34m(filename, bbox, mask, rows, **kwargs)\u001b[0m\n\u001b[0;32m    159\u001b[0m \u001b[1;33m\u001b[0m\u001b[0m\n\u001b[0;32m    160\u001b[0m     \u001b[1;32mwith\u001b[0m \u001b[0mfiona_env\u001b[0m\u001b[1;33m(\u001b[0m\u001b[1;33m)\u001b[0m\u001b[1;33m:\u001b[0m\u001b[1;33m\u001b[0m\u001b[1;33m\u001b[0m\u001b[0m\n\u001b[1;32m--> 161\u001b[1;33m         \u001b[1;32mwith\u001b[0m \u001b[0mreader\u001b[0m\u001b[1;33m(\u001b[0m\u001b[0mpath_or_bytes\u001b[0m\u001b[1;33m,\u001b[0m \u001b[1;33m**\u001b[0m\u001b[0mkwargs\u001b[0m\u001b[1;33m)\u001b[0m \u001b[1;32mas\u001b[0m \u001b[0mfeatures\u001b[0m\u001b[1;33m:\u001b[0m\u001b[1;33m\u001b[0m\u001b[1;33m\u001b[0m\u001b[0m\n\u001b[0m\u001b[0;32m    162\u001b[0m \u001b[1;33m\u001b[0m\u001b[0m\n\u001b[0;32m    163\u001b[0m             \u001b[1;31m# In a future Fiona release the crs attribute of features will\u001b[0m\u001b[1;33m\u001b[0m\u001b[1;33m\u001b[0m\u001b[1;33m\u001b[0m\u001b[0m\n",
      "\u001b[1;32m~\\AppData\\Local\\Programs\\Python\\Python38\\lib\\site-packages\\fiona\\env.py\u001b[0m in \u001b[0;36mwrapper\u001b[1;34m(*args, **kwargs)\u001b[0m\n\u001b[0;32m    406\u001b[0m     \u001b[1;32mdef\u001b[0m \u001b[0mwrapper\u001b[0m\u001b[1;33m(\u001b[0m\u001b[1;33m*\u001b[0m\u001b[0margs\u001b[0m\u001b[1;33m,\u001b[0m \u001b[1;33m**\u001b[0m\u001b[0mkwargs\u001b[0m\u001b[1;33m)\u001b[0m\u001b[1;33m:\u001b[0m\u001b[1;33m\u001b[0m\u001b[1;33m\u001b[0m\u001b[0m\n\u001b[0;32m    407\u001b[0m         \u001b[1;32mif\u001b[0m \u001b[0mlocal\u001b[0m\u001b[1;33m.\u001b[0m\u001b[0m_env\u001b[0m\u001b[1;33m:\u001b[0m\u001b[1;33m\u001b[0m\u001b[1;33m\u001b[0m\u001b[0m\n\u001b[1;32m--> 408\u001b[1;33m             \u001b[1;32mreturn\u001b[0m \u001b[0mf\u001b[0m\u001b[1;33m(\u001b[0m\u001b[1;33m*\u001b[0m\u001b[0margs\u001b[0m\u001b[1;33m,\u001b[0m \u001b[1;33m**\u001b[0m\u001b[0mkwargs\u001b[0m\u001b[1;33m)\u001b[0m\u001b[1;33m\u001b[0m\u001b[1;33m\u001b[0m\u001b[0m\n\u001b[0m\u001b[0;32m    409\u001b[0m         \u001b[1;32melse\u001b[0m\u001b[1;33m:\u001b[0m\u001b[1;33m\u001b[0m\u001b[1;33m\u001b[0m\u001b[0m\n\u001b[0;32m    410\u001b[0m             \u001b[1;32mif\u001b[0m \u001b[0misinstance\u001b[0m\u001b[1;33m(\u001b[0m\u001b[0margs\u001b[0m\u001b[1;33m[\u001b[0m\u001b[1;36m0\u001b[0m\u001b[1;33m]\u001b[0m\u001b[1;33m,\u001b[0m \u001b[0mstr\u001b[0m\u001b[1;33m)\u001b[0m\u001b[1;33m:\u001b[0m\u001b[1;33m\u001b[0m\u001b[1;33m\u001b[0m\u001b[0m\n",
      "\u001b[1;32m~\\AppData\\Local\\Programs\\Python\\Python38\\lib\\site-packages\\fiona\\__init__.py\u001b[0m in \u001b[0;36mopen\u001b[1;34m(fp, mode, driver, schema, crs, encoding, layer, vfs, enabled_drivers, crs_wkt, **kwargs)\u001b[0m\n\u001b[0;32m    257\u001b[0m \u001b[1;33m\u001b[0m\u001b[0m\n\u001b[0;32m    258\u001b[0m         \u001b[1;32mif\u001b[0m \u001b[0mmode\u001b[0m \u001b[1;32min\u001b[0m \u001b[1;33m(\u001b[0m\u001b[1;34m'a'\u001b[0m\u001b[1;33m,\u001b[0m \u001b[1;34m'r'\u001b[0m\u001b[1;33m)\u001b[0m\u001b[1;33m:\u001b[0m\u001b[1;33m\u001b[0m\u001b[1;33m\u001b[0m\u001b[0m\n\u001b[1;32m--> 259\u001b[1;33m             c = Collection(path, mode, driver=driver, encoding=encoding,\n\u001b[0m\u001b[0;32m    260\u001b[0m                            layer=layer, enabled_drivers=enabled_drivers, **kwargs)\n\u001b[0;32m    261\u001b[0m         \u001b[1;32melif\u001b[0m \u001b[0mmode\u001b[0m \u001b[1;33m==\u001b[0m \u001b[1;34m'w'\u001b[0m\u001b[1;33m:\u001b[0m\u001b[1;33m\u001b[0m\u001b[1;33m\u001b[0m\u001b[0m\n",
      "\u001b[1;32m~\\AppData\\Local\\Programs\\Python\\Python38\\lib\\site-packages\\fiona\\collection.py\u001b[0m in \u001b[0;36m__init__\u001b[1;34m(self, path, mode, driver, schema, crs, encoding, layer, vsi, archive, enabled_drivers, crs_wkt, ignore_fields, ignore_geometry, **kwargs)\u001b[0m\n\u001b[0;32m    160\u001b[0m             \u001b[1;32mif\u001b[0m \u001b[0mself\u001b[0m\u001b[1;33m.\u001b[0m\u001b[0mmode\u001b[0m \u001b[1;33m==\u001b[0m \u001b[1;34m'r'\u001b[0m\u001b[1;33m:\u001b[0m\u001b[1;33m\u001b[0m\u001b[1;33m\u001b[0m\u001b[0m\n\u001b[0;32m    161\u001b[0m                 \u001b[0mself\u001b[0m\u001b[1;33m.\u001b[0m\u001b[0msession\u001b[0m \u001b[1;33m=\u001b[0m \u001b[0mSession\u001b[0m\u001b[1;33m(\u001b[0m\u001b[1;33m)\u001b[0m\u001b[1;33m\u001b[0m\u001b[1;33m\u001b[0m\u001b[0m\n\u001b[1;32m--> 162\u001b[1;33m                 \u001b[0mself\u001b[0m\u001b[1;33m.\u001b[0m\u001b[0msession\u001b[0m\u001b[1;33m.\u001b[0m\u001b[0mstart\u001b[0m\u001b[1;33m(\u001b[0m\u001b[0mself\u001b[0m\u001b[1;33m,\u001b[0m \u001b[1;33m**\u001b[0m\u001b[0mkwargs\u001b[0m\u001b[1;33m)\u001b[0m\u001b[1;33m\u001b[0m\u001b[1;33m\u001b[0m\u001b[0m\n\u001b[0m\u001b[0;32m    163\u001b[0m             \u001b[1;32melif\u001b[0m \u001b[0mself\u001b[0m\u001b[1;33m.\u001b[0m\u001b[0mmode\u001b[0m \u001b[1;32min\u001b[0m \u001b[1;33m(\u001b[0m\u001b[1;34m'a'\u001b[0m\u001b[1;33m,\u001b[0m \u001b[1;34m'w'\u001b[0m\u001b[1;33m)\u001b[0m\u001b[1;33m:\u001b[0m\u001b[1;33m\u001b[0m\u001b[1;33m\u001b[0m\u001b[0m\n\u001b[0;32m    164\u001b[0m                 \u001b[0mself\u001b[0m\u001b[1;33m.\u001b[0m\u001b[0msession\u001b[0m \u001b[1;33m=\u001b[0m \u001b[0mWritingSession\u001b[0m\u001b[1;33m(\u001b[0m\u001b[1;33m)\u001b[0m\u001b[1;33m\u001b[0m\u001b[1;33m\u001b[0m\u001b[0m\n",
      "\u001b[1;32mfiona\\ogrext.pyx\u001b[0m in \u001b[0;36mfiona.ogrext.Session.start\u001b[1;34m()\u001b[0m\n",
      "\u001b[1;32mfiona\\_shim.pyx\u001b[0m in \u001b[0;36mfiona._shim.gdal_open_vector\u001b[1;34m()\u001b[0m\n",
      "\u001b[1;31mDriverError\u001b[0m: municipios_ba.shp: No such file or directory"
     ]
    }
   ],
   "metadata": {}
  },
  {
   "cell_type": "code",
   "execution_count": null,
   "source": [],
   "outputs": [],
   "metadata": {}
  }
 ],
 "metadata": {
  "interpreter": {
   "hash": "69065b4d258869e7275e131b8703d705630216d2f4a25a70976180b0a6a24b94"
  },
  "kernelspec": {
   "name": "python3",
   "display_name": "Python 3.8.10 64-bit"
  },
  "language_info": {
   "codemirror_mode": {
    "name": "ipython",
    "version": 3
   },
   "file_extension": ".py",
   "mimetype": "text/x-python",
   "name": "python",
   "nbconvert_exporter": "python",
   "pygments_lexer": "ipython3",
   "version": "3.8.10"
  },
  "orig_nbformat": 4
 },
 "nbformat": 4,
 "nbformat_minor": 2
}